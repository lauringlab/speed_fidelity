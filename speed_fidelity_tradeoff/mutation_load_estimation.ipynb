{
 "cells": [
  {
   "cell_type": "code",
   "execution_count": 86,
   "metadata": {
    "collapsed": false
   },
   "outputs": [
    {
     "name": "stdout",
     "output_type": "stream",
     "text": [
      "Populating the interactive namespace from numpy and matplotlib\n"
     ]
    }
   ],
   "source": [
    "%pylab inline"
   ]
  },
  {
   "cell_type": "code",
   "execution_count": 85,
   "metadata": {
    "collapsed": true
   },
   "outputs": [],
   "source": [
    "import scipy\n",
    "import scipy as sp\n",
    "import scipy.stats\n",
    "from scipy import stats\n",
    "\n",
    "def simpleaxis(ax):\n",
    "    ax.spines['top'].set_visible(False)\n",
    "    ax.spines['right'].set_visible(False)\n",
    "    ax.get_xaxis().tick_bottom()\n",
    "    ax.get_yaxis().tick_left()\n",
    "\n",
    "    \n",
    "def mean_confidence_interval(data, confidence=0.95):\n",
    "    a = 1.0*np.array(data)\n",
    "    n = len(a)\n",
    "    m, se = np.mean(a), scipy.stats.sem(a)\n",
    "    h = se * sp.stats.t._ppf((1+confidence)/2., n-1)\n",
    "    return m, m-h, m+h\n",
    "\n",
    "def geomean_confidence_interval(data, confidence=0.95):\n",
    "    a = np.log(1.0*np.array(data))\n",
    "    n = len(a)\n",
    "    m, se = np.mean(a), scipy.stats.sem(a)\n",
    "    h = se * sp.stats.t._ppf((1+confidence)/2., n-1)\n",
    "    return np.exp(m), np.exp(m-h), np.exp(m+h)"
   ]
  },
  {
   "cell_type": "markdown",
   "metadata": {},
   "source": [
    "# Mutational Load"
   ]
  },
  {
   "cell_type": "markdown",
   "metadata": {},
   "source": [
    "The premise of the speed-fidelity tradeoff is that the outcome of competition between two viral strains will be determined by two opposing forces; the speed with which the genome can be replicated, and the error rate of that replication. The faster genome replication happens, the more errors that occur and the greater the mutational load. In this scenario an optimal competitive fitness will be achieved exactly where the increase in fitness is counterbalanced by decrease in fitness from excess mutational load. Here we present a simple mathematical model to demonstrate this tradeoff, and fit the model to the experimental data.\n",
    "\n",
    "We start with the classical estimation by Haldane (1937) of the equilibrium mean population fitness, $w$, as a function of the genomic deleterious mutation rate r'$U_d$' in units of deleterious mutations be genome per generation.\n"
   ]
  },
  {
   "cell_type": "markdown",
   "metadata": {},
   "source": [
    "\\begin{align}\n",
    "w  = e^{-U_d}\n",
    "\\end{align}"
   ]
  },
  {
   "cell_type": "code",
   "execution_count": 43,
   "metadata": {
    "collapsed": false
   },
   "outputs": [
    {
     "data": {
      "image/png": "[encoded data removed]",
      "text/plain": [
       "<matplotlib.figure.Figure at 0x107baef98>"
      ]
     },
     "metadata": {},
     "output_type": "display_data"
    }
   ],
   "source": [
    "ax = subplot(111) \n",
    "Ud = np.linspace(0,3,100) # the deleterious mutation rate per genome per generation\n",
    "mean_fit = np.exp(-Ud)    # the equilibrium mean population fitness  (Haldane 1937, Bull Sanjuan & Wilke 2007)\n",
    "                          # not that if back mutations are allowed and the population is small this estimate m\n",
    "                          # be off\n",
    "plot(Ud, mean_fit)\n",
    "xlabel('$\\mathit{U}_d$',fontsize=16)\n",
    "ylabel('$\\mathit{w}$',fontsize=16)\n",
    "\n",
    "\n",
    "simpleaxis(ax)\n"
   ]
  },
  {
   "cell_type": "markdown",
   "metadata": {},
   "source": [
    "# Realive fitness"
   ]
  },
  {
   "cell_type": "markdown",
   "metadata": {},
   "source": [
    "Now we consider competition between two strains that differ in both their speed, $c$, and the fidelity (as manifest by a deleterious mutation rate, $U$). If you have two strains, a and b, then you the relative fitness of a to b will be:\n",
    "\n"
   ]
  },
  {
   "cell_type": "markdown",
   "metadata": {},
   "source": [
    "\\begin{equation*}\n",
    "w_{a,b}   = \\frac{c_a e^{-U_a}}{ c_b e^{-U_b}}\n",
    "\\end{equation*}"
   ]
  },
  {
   "cell_type": "markdown",
   "metadata": {},
   "source": [
    "where $c_a$ and $c_b$ are the replication rate of the genome and the $U_a$ and $U_b$ are the deleterious genomic mutation rates per genome per generation for strain a and b respectively."
   ]
  },
  {
   "cell_type": "code",
   "execution_count": 44,
   "metadata": {
    "collapsed": false
   },
   "outputs": [
    {
     "name": "stdout",
     "output_type": "stream",
     "text": [
      "the fitness of a is 0.928207474059\n",
      "the fitness of b is 0.581801692549\n",
      "the realtive fitness of b to a is 0.626801344321\n"
     ]
    }
   ],
   "source": [
    "#As an example, let's consider what happens when the a high fidelity variant \n",
    "# (i.e. lower mutation rate) results in a lower fitness (made up number similar \n",
    "# those that will be derived later)\n",
    "Ua = 0.0745  # the mutation rate per genome per generation for strain a\n",
    "Ub = 0.0308  # the mutation rate per genome per generation for strain b\n",
    "wa = 1.   # replicative fitness of strain a (high mutation strain) unmutated\n",
    "wb = 0.60  # replicative fitness of strain b (high fidelity strain) unmutated\n",
    "\n",
    "fraction_deleterious = 0.9 # of all mutation, the fraction that are deleterious\n",
    "\n",
    "# mean population fitness of population a at equilibrium\n",
    "mean_wa = np.exp(-Ua)*wa\n",
    "\n",
    "# mean population fitness of population a at equilibrium\n",
    "mean_wb = np.exp(-Ub)*wb\n",
    "\n",
    "print('the fitness of a is', mean_wa)\n",
    "print('the fitness of b is', mean_wb)\n",
    "print('the realtive fitness of b to a is', mean_wb/mean_wa)"
   ]
  },
  {
   "cell_type": "markdown",
   "metadata": {},
   "source": [
    "# Considering an external mutagen"
   ]
  },
  {
   "cell_type": "markdown",
   "metadata": {},
   "source": [
    "To understand the effect of a mutagen on the relative fitness of one strain to another, let's add a mutation rate multiplier (mu_external, $\\sigma$) which mulitplicatively modifies the baseline mutation rate and constrain $\\sigma$ to take values greater than one. "
   ]
  },
  {
   "cell_type": "markdown",
   "metadata": {},
   "source": [
    "\\begin{equation*}\n",
    "w_{a,b}   = \\frac{c_a e^{-U_a * \\sigma}}{ c_b e^{-U_b* \\sigma}}\n",
    "\\end{equation*}"
   ]
  },
  {
   "cell_type": "code",
   "execution_count": 165,
   "metadata": {
    "collapsed": false
   },
   "outputs": [
    {
     "data": {
      "image/png": "[encoded data removed]",
      "text/plain": [
       "<matplotlib.figure.Figure at 0x10a90e2b0>"
      ]
     },
     "metadata": {},
     "output_type": "display_data"
    }
   ],
   "source": [
    "ax = subplot(111)\n",
    "mu_external = np.linspace(1,30, 100) # sigma in the equatino above\n",
    "\n",
    "# the relative fitness of a to b\n",
    "fit_b = np.exp(-(Ub*fraction_deleterious)*mu_external)*wb\n",
    "fit_a = np.exp(-(Ua*fraction_deleterious)*mu_external)*wa\n",
    "\n",
    "ax.plot(mu_external, fit_a, label = '$a$')\n",
    "ax.plot(mu_external, fit_b, label = '$b$')\n",
    "#ax.plot([min(mu_external), max(mu_external)], [1,1], 'g--')\n",
    "\n",
    "# find value of mu_external where relative fitness is 1\n",
    "eq = np.log(wa/wb)/(fraction_deleterious*(Ua-Ub))\n",
    "\n",
    "# put an arrow on the plot to make it very obvious\n",
    "ax.arrow(eq, np.exp(-(Ub*fraction_deleterious)*eq)*wb+.1, 0, -0.06, head_width=0.5, head_length=0.03, fc='k', ec='k')\n",
    "\n",
    "\n",
    "xlabel('external mutation rated modifier, $\\sigma$')\n",
    "ylabel('relative fitness of strains')\n",
    "title('equilibrium is at {}'.format(str(eq)[:5]))\n",
    "legend(loc = 'upper right', frameon=False)\n",
    "\n",
    "simpleaxis(ax)"
   ]
  },
  {
   "cell_type": "code",
   "execution_count": 166,
   "metadata": {
    "collapsed": false
   },
   "outputs": [
    {
     "data": {
      "image/png": "[encoded data removed]",
      "text/plain": [
       "<matplotlib.figure.Figure at 0x10ad5d470>"
      ]
     },
     "metadata": {},
     "output_type": "display_data"
    }
   ],
   "source": [
    "ax = subplot(111)\n",
    "mu_external = np.linspace(1,30, 100) # sigma in the equatino above\n",
    "\n",
    "# the relative fitness of a to b\n",
    "relfit = (np.exp(-(Ub*fraction_deleterious)*mu_external)*wb)/(np.exp(-(Ua*fraction_deleterious)*mu_external)*wa)\n",
    "\n",
    "ax.plot(mu_external, relfit)\n",
    "ax.plot([min(mu_external), max(mu_external)], [1,1], 'g--')\n",
    "\n",
    "# find value of mu_external where relative fitness is 1\n",
    "eq = np.log(wa/wb)/(fraction_deleterious*(Ua-Ub))\n",
    "\n",
    "# put an arrow on the plot to make it very obvious\n",
    "ax.arrow(eq, 1.2, 0, -0.16, head_width=0.3, head_length=0.03, fc='k', ec='k')\n",
    "\n",
    "\n",
    "xlabel('external mutation rated modifier')\n",
    "ylabel('relative fitness of high\\nfidelity variant')\n",
    "title('equilibrium is at {}'.format(str(eq)[:5]))\n",
    "\n",
    "simpleaxis(ax)"
   ]
  },
  {
   "cell_type": "markdown",
   "metadata": {
    "collapsed": true
   },
   "source": [
    "# Using the model to estimate mutational load from data"
   ]
  },
  {
   "cell_type": "markdown",
   "metadata": {},
   "source": [
    "With this simple model, we want to use the empirical estimates of the mutation rate and the relative fitness values to etimate the deleterious mutation rate and the amount of mutation load experienced by wild type polio virus and the G64S high fidelity variant. We will start by enterring and plotting the mutation rate data."
   ]
  },
  {
   "cell_type": "code",
   "execution_count": 66,
   "metadata": {
    "collapsed": false
   },
   "outputs": [
    {
     "name": "stdout",
     "output_type": "stream",
     "text": [
      "wt\n",
      "slope = 2.93219047619e-07\n",
      "intercept = 1.34933333333e-05\n",
      "r_value = 0.857289273159\n",
      "r_square = 0.734944897873\n",
      "p_value = 0.000365037572241\n",
      "-46.0179290633\n",
      "\n",
      "G64S\n",
      "slope = 4.9619047619e-08\n",
      "intercept = 3.43333333333e-06\n",
      "r_value = 0.875145876319\n",
      "r_square = 0.765880304839\n",
      "p_value = 0.000193055796405\n",
      "-69.1938579655\n"
     ]
    },
    {
     "data": {
      "image/png": "[encoded data removed]",
      "text/plain": [
       "<matplotlib.figure.Figure at 0x1075d8208>"
      ]
     },
     "metadata": {},
     "output_type": "display_data"
    }
   ],
   "source": [
    "#experimental data listed as mutations per site per replication (s/n/r)\n",
    "r_0_wt = [1.70E-05,7.60E-06,5.20E-06]\n",
    "r_0_g64S = [3.60E-06,2.50E-06,6.20E-06]\n",
    "r_50_wt = [3.00E-05,2.50E-05,3.40E-05]\n",
    "r_50_g64S = [5.10E-06,7.60E-06,4.90E-06]\n",
    "r_100_wt = [3.20E-05,5.10E-05,6.00E-05]\n",
    "r_100_g64S = [5.80E-06,8.70E-06,6.90E-06]\n",
    "r_200_wt =[4.50E-05,6.60E-05,9.70E-05]\n",
    "r_200_g64S = [1.80E-05,1.30E-05,1.10E-05]\n",
    "all_data = [[0,1.70E-05,7.60E-06,5.20E-06,9.93E-06,3.60E-06,2.50E-06,6.20E-06,4.10E-06],\n",
    "[50,3.00E-05,2.50E-05,3.40E-05,2.97E-05,5.10E-06,7.60E-06,4.90E-06,5.87E-06],\n",
    "[100,3.20E-05,5.10E-05,6.00E-05,4.77E-05,5.80E-06,8.70E-06,6.90E-06,7.13E-06],\n",
    "[200,4.50E-05,6.60E-05,9.70E-05,6.93E-05,1.80E-05,1.30E-05,1.10E-05,1.40E-05]]\n",
    "\n",
    "x= []\n",
    "wt_all = []\n",
    "g64s_all = []\n",
    "for i in all_data:\n",
    "    \n",
    "    for j in range(1,4):\n",
    "        x.append(i[0])\n",
    "        wt_all.append(i[j])\n",
    "    for j in range(5,8):\n",
    "        g64s_all.append(i[j])\n",
    "        \n",
    "ax = subplot(1,1,1)\n",
    "ax.plot(x, wt_all, 'bo')\n",
    "ax.plot(x, g64s_all, 'go')\n",
    "#ax.set_yscale('log')\n",
    "\n",
    "wt_slope, wt_intercept, wt_r_value, wt_p_value, wt_std_err = stats.linregress(x,wt_all)\n",
    "print ('wt')\n",
    "print ('slope =', wt_slope)\n",
    "print ('intercept =', wt_intercept)\n",
    "print ('r_value =', wt_r_value)\n",
    "print ('r_square =', wt_r_value**2)\n",
    "print ('p_value =', wt_p_value)\n",
    "print (-wt_intercept/wt_slope)\n",
    "x2 = linspace(np.min(x),np.max(x),50)\n",
    "y2 = x2*wt_slope+wt_intercept\n",
    "plot(x2, y2, 'b', label = 'wt')\n",
    "#plot(time, s, 'go')\n",
    "\n",
    "print ()\n",
    "G64S_slope, G64S_intercept, G64S_r_value, G64S_p_value, G64S_std_err = stats.linregress(x,g64s_all)\n",
    "print ('G64S')\n",
    "print ('slope =', G64S_slope)\n",
    "print ('intercept =', G64S_intercept)\n",
    "print ('r_value =', G64S_r_value)\n",
    "print ('r_square =', G64S_r_value**2)\n",
    "print ('p_value =', G64S_p_value)\n",
    "print (-G64S_intercept/G64S_slope)\n",
    "x1 = linspace(np.min(x),np.max(x),50)\n",
    "y1 = x2*G64S_slope+G64S_intercept\n",
    "plot(x1, y1, 'g', label = 'G64S')\n",
    "\n",
    "\n",
    "legend(loc = 'upper left', frameon=False)\n",
    "ax.set_xlim([-10, 210])\n",
    "ax.set_xlabel('ribavirin $\\\\mu$M')\n",
    "ax.set_ylabel('mutation rate (s/n/r)')\n",
    "\n",
    "simpleaxis(ax)"
   ]
  },
  {
   "cell_type": "markdown",
   "metadata": {},
   "source": [
    "The G64S mutation has two effects. The mutation results in an increase in fidelity, represented as a downward shift in the line. The mutation also results in a relative resistance to ribavirin, which is seen as a decreased slope. Both of these need to be included to estimate the mutational load experienced bt the wt and g64s mutant in the presence if increaseing mutagen.\n",
    "\n",
    "Now let's solve for the two variables that are unknow (1) the number of deleterious sites in the genome ($n$), and  (2) the fitness cost ($c$) of the G64S mutation in the abscensce of mutational load, which is relative to the wild type which will arbitrarily be set to 1.  There are two unknwown variables, so we need two equations to solve. We will use the measured relative fitness with in the absence of ribavirin, and the ribavirin concentrationwhen the relative fitness is expected to be 1. \n",
    "\n",
    "We will used the the mutaion rates estimated for each strain and ribavirin concerntration  ($\\mu_{strain, conc}$). At 0 ribavirin, and the reative fitness of G64S to wt which was measured to be 0.67 which give use our first equation:\n",
    "\n",
    "\\begin{equation*}\n",
    "\\frac{c*e^{-\\mu_{G64S, 0}*n}}{ e^{-\\mu_{wt, 0}*n}} = 0.67\n",
    "\\end{equation*}\n",
    "\n",
    "Next we look at the competitive fitness use the measured point at which the two strains have equal fitness is approxiamtely 150 $\\mu$M of ribavirin: \n",
    "\n",
    "\\begin{equation*}\n",
    "\\frac{c*e^{-\\mu_{G64S, 150}*n}}{ e^{-\\mu_{wt, 150}*n}} = 1.0\n",
    "\\end{equation*}\n",
    "\n",
    "Now with two equations we can solve for the two unknown values ($n$ and $c$).\n",
    "\n",
    "\n",
    "\n"
   ]
  },
  {
   "cell_type": "code",
   "execution_count": 168,
   "metadata": {
    "collapsed": false
   },
   "outputs": [
    {
     "name": "stdout",
     "output_type": "stream",
     "text": [
      "Assuming they have equal fitness at 150 uM:\n",
      "(1) the fitness cost of G64S separate from the load is  0.60\n",
      "(2) the effective number of sites with deleterious mutations is 10959 ( 0.48 %)\n",
      "(3) the fitness cost due to mutation load experienced by wt in abscence of ribavirin is 0.137471101885\n",
      "(4) the fitness cost due to mutation load experienced by G64S in abscence of ribavirin is 0.036930071953\n"
     ]
    }
   ],
   "source": [
    "ribavirin_conc = np.linspace(0,200, 100)\n",
    "wt_mut_rate = (ribavirin_conc*wt_slope+wt_intercept) # \n",
    "G64S_mut_rate = (ribavirin_conc*G64S_slope+G64S_intercept)\n",
    "\n",
    "eq_conc = 150# the ribavirin concentration at which the fitnesses are equal\n",
    "\n",
    "c = np.exp((np.log(1/0.67)*((eq_conc*G64S_slope+G64S_intercept)-(eq_conc*wt_slope+wt_intercept)))/(G64S_intercept-wt_intercept - (eq_conc*G64S_slope+G64S_intercept)+(eq_conc*wt_slope+wt_intercept)))\n",
    "\n",
    "# now this can be plugged into the equations to estimated the number of sites with deleterious mutations\n",
    "\n",
    "n_del_site = (np.log((1/0.67)*c)/(G64S_intercept-wt_intercept)) \n",
    "\n",
    "mu_G64S_eq = eq_conc*G64S_slope+G64S_intercept\n",
    "mu_wt_eq = eq_conc*wt_slope+wt_intercept\n",
    "n = (np.log(0.67)/(mu_G64S_eq-mu_wt_eq))/(1-(G64S_intercept - wt_intercept)/(mu_G64S_eq-mu_wt_eq))\n",
    "\n",
    "mean_fit_wt = np.exp(-wt_mut_rate*n_del_site)\n",
    "mean_fit_G64S = c*np.exp(-G64S_mut_rate*n_del_site)\n",
    "relfit = mean_fit_G64S/mean_fit_wt\n",
    "\n",
    "#ax = subplot(111)\n",
    "#ax.plot([min(ribavirin_conc), max(ribavirin_conc)], [1,1], 'g--')\n",
    "#ax.plot(ribavirin_conc, relfit)\n",
    "\n",
    "\n",
    "#xlabel('ribavirin $\\\\mu$M')\n",
    "#ylabel('relative fitness(G64S/wt)')\n",
    "\n",
    "#simpleaxis(ax)\n",
    "\n",
    "print('Assuming they have equal fitness at', eq_conc, 'uM:')\n",
    "print('(1) the fitness cost of G64S separate from the load is ', str(c)[:4])\n",
    "print('(2) the effective number of sites with deleterious mutations is',int(n_del_site), '(', str(n_del_site/22500)[:4],'%)')\n",
    "print('(3) the fitness cost due to mutation load experienced by wt in abscence of ribavirin is',1-np.exp(-1*wt_intercept*n_del_site))\n",
    "print('(4) the fitness cost due to mutation load experienced by G64S in abscence of ribavirin is',1-np.exp(-1*G64S_intercept*n_del_site))"
   ]
  },
  {
   "cell_type": "code",
   "execution_count": 173,
   "metadata": {
    "collapsed": false
   },
   "outputs": [
    {
     "data": {
      "text/plain": [
       "<matplotlib.text.Text at 0x10b64f320>"
      ]
     },
     "execution_count": 173,
     "metadata": {},
     "output_type": "execute_result"
    },
    {
     "name": "stderr",
     "output_type": "stream",
     "text": [
      "/Users/robertwoods/anaconda3/lib/python3.4/site-packages/matplotlib/collections.py:590: FutureWarning: elementwise comparison failed; returning scalar instead, but in the future will perform elementwise comparison\n",
      "  if self._edgecolors == str('face'):\n"
     ]
    },
    {
     "data": {
      "image/png": "[encoded data removed]",
      "text/plain": [
       "<matplotlib.figure.Figure at 0x10b746550>"
      ]
     },
     "metadata": {},
     "output_type": "display_data"
    }
   ],
   "source": [
    "ax = subplot(111)\n",
    "ax.plot(ribavirin_conc, mean_fit_wt, label = 'wt', color = 'blue')\n",
    "ax.plot(ribavirin_conc, mean_fit_G64S, label = 'G64S', color = 'green')\n",
    "ax.plot(ribavirin_conc, top_wt, 'b--')\n",
    "ax.plot(ribavirin_conc, top_g64s,'g--')\n",
    "\n",
    "top_wt = [1 for i in range(len(ribavirin_conc))]\n",
    "top_g64s = [c for i in range(len(ribavirin_conc))]\n",
    "\n",
    "ax.fill_between(ribavirin_conc,mean_fit_wt, top_wt, alpha = 0.1, color = 'blue')\n",
    "ax.fill_between(ribavirin_conc,mean_fit_G64S, top_g64s, alpha = 0.1, color = 'green')\n",
    "\n",
    "simpleaxis(ax)\n",
    "\n",
    "legend(loc = 'upper right', frameon=False)\n",
    "\n",
    "xlabel('ribavirin $\\\\mu$M')\n",
    "ylabel('relative fitness')\n",
    "\n",
    "# the dotted line indicate the predicted replicatino rate of wt adn G64S in the abscence of any\n",
    "# muation load, the shaded areas indicate the amount of mutational load experienced by each \n",
    "# strain across the range of ribavirin concentration and the solid line is the relative fitness \n",
    "# of wt and G64S, compared to a wt strain that experiences no load, taking into account both\n",
    "# replicative speed and mutation load"
   ]
  },
  {
   "cell_type": "markdown",
   "metadata": {},
   "source": [
    "# Speed fidelity drade off and identifying an optimal mutation rate"
   ]
  },
  {
   "cell_type": "markdown",
   "metadata": {},
   "source": [
    "Finally let's consider a tradeoff between replicative speed and fidelity. We do not know the functional relationship between these, but for the sake of demonstration, we can fit a line between G64S and wt."
   ]
  },
  {
   "cell_type": "code",
   "execution_count": 174,
   "metadata": {
    "collapsed": false
   },
   "outputs": [
    {
     "data": {
      "image/png": "[encoded data removed]",
      "text/plain": [
       "<matplotlib.figure.Figure at 0x10b4124e0>"
      ]
     },
     "metadata": {},
     "output_type": "display_data"
    }
   ],
   "source": [
    "ax = subplot(111)\n",
    "\n",
    "c_val = linspace(0,2,100) # a range of values of c\n",
    "m = (np.log(wt_intercept)-np.log(G64S_intercept))/(1-c) # solve for the slop of the log function\n",
    "b = np.log(G64S_intercept)-m*c # solve for the intercept of the log function\n",
    "ax.plot(np.exp(c_val*m+b),c_val)\n",
    "\n",
    "ax.plot(G64S_mut_rate[0],c, 'ro' )\n",
    "ax.plot(wt_mut_rate[0],1, 'ro' )\n",
    "\n",
    "ax.text(wt_mut_rate[0]*.96,.90, 'wt' )\n",
    "ax.text(G64S_mut_rate[0]*.96,c-0.1, 'G64S' )\n",
    "\n",
    "simpleaxis(ax)\n",
    "\n",
    "xlabel('mutation rate')\n",
    "ylabel('c')\n",
    "ax.set_xscale('log')"
   ]
  },
  {
   "cell_type": "code",
   "execution_count": 175,
   "metadata": {
    "collapsed": false
   },
   "outputs": [
    {
     "name": "stderr",
     "output_type": "stream",
     "text": [
      "/Users/robertwoods/anaconda3/lib/python3.4/site-packages/ipykernel/__main__.py:2: RuntimeWarning: overflow encountered in exp\n",
      "  from ipykernel import kernelapp as app\n",
      "/Users/robertwoods/anaconda3/lib/python3.4/site-packages/ipykernel/__main__.py:2: RuntimeWarning: invalid value encountered in double_scalars\n",
      "  from ipykernel import kernelapp as app\n"
     ]
    }
   ],
   "source": [
    "# now look at at fitness as along this curve (as a function of c, given c's relationship with mu)\n",
    "w = [np.exp(-np.exp(i*b+m)+n_del_site)*i for i in c_val]"
   ]
  },
  {
   "cell_type": "code",
   "execution_count": 176,
   "metadata": {
    "collapsed": true
   },
   "outputs": [],
   "source": [
    "# finally lets plot the fitness as a function of the mutation rate"
   ]
  },
  {
   "cell_type": "code",
   "execution_count": 177,
   "metadata": {
    "collapsed": false
   },
   "outputs": [
    {
     "data": {
      "image/png": "[encoded data removed]",
      "text/plain": [
       "<matplotlib.figure.Figure at 0x10ad697f0>"
      ]
     },
     "metadata": {},
     "output_type": "display_data"
    }
   ],
   "source": [
    "# now plot relative to the mutation rate\n",
    "ax = subplot(1,1,1)\n",
    "ax.plot(np.exp(c_val*m+b), np.exp(-np.exp(c_val*m+b)*n_del_site)*c_val)\n",
    "\n",
    "ax.plot(np.exp(c*m+b), np.exp(-np.exp(c*m+b)*n_del_site)*c, 'ro' )\n",
    "ax.text(np.exp(c*m+b), np.exp(-np.exp(c*m+b)*n_del_site)*c-0.1, 'G64S' )\n",
    "\n",
    "\n",
    "ax.plot(np.exp(1*m+b), np.exp(-np.exp(1*m+b)*n_del_site)*1, 'ro' )\n",
    "ax.text(np.exp(1*m+b), np.exp(-np.exp(1*m+b)*n_del_site)*1-0.1, 'wt' )\n",
    "\n",
    "\n",
    "ax.set_xlabel('mutation rate')\n",
    "ax.set_ylabel('fitness') \n",
    "\n",
    "\n",
    "simpleaxis(ax)\n",
    "\n",
    "ax.set_xscale('log')\n",
    "savefig('_optimum_speed.pdf',dpi = None)"
   ]
  },
  {
   "cell_type": "code",
   "execution_count": 215,
   "metadata": {
    "collapsed": true
   },
   "outputs": [],
   "source": []
  }
 ],
 "metadata": {
  "kernelspec": {
   "display_name": "Python 3",
   "language": "python",
   "name": "python3"
  },
  "language_info": {
   "codemirror_mode": {
    "name": "ipython",
    "version": 3
   },
   "file_extension": ".py",
   "mimetype": "text/x-python",
   "name": "python",
   "nbconvert_exporter": "python",
   "pygments_lexer": "ipython3",
   "version": "3.4.3"
  }
 },
 "nbformat": 4,
 "nbformat_minor": 0
}
